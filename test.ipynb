{
  "nbformat": 4,
  "nbformat_minor": 0,
  "metadata": {
    "colab": {
      "provenance": []
    },
    "kernelspec": {
      "name": "python3",
      "display_name": "Python 3"
    },
    "language_info": {
      "name": "python"
    }
  },
  "cells": [
    {
      "cell_type": "markdown",
      "source": [
        "# Assignment\n",
        "\n",
        "1. What is Python?\n",
        "   \n",
        "   * python is a interpretor programming language.\n",
        "2. explain what is AI\n",
        "   * AI Artificial programming language"
      ],
      "metadata": {
        "id": "HGlsYjipG8EM"
      }
    },
    {
      "cell_type": "code",
      "execution_count": null,
      "metadata": {
        "id": "tXQQjMcCGj66"
      },
      "outputs": [],
      "source": [
        "# 3. print code.\n",
        "\n",
        "print(\"hello\")"
      ]
    },
    {
      "cell_type": "markdown",
      "source": [
        "4. what is llm?\n",
        "  * large language model"
      ],
      "metadata": {
        "id": "2n4C21ZjHU-X"
      }
    },
    {
      "cell_type": "code",
      "source": [],
      "metadata": {
        "id": "x3za73vgHaQS"
      },
      "execution_count": null,
      "outputs": []
    }
  ]
}